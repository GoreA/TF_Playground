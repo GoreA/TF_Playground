{
 "cells": [
  {
   "cell_type": "code",
   "execution_count": 21,
   "metadata": {},
   "outputs": [],
   "source": [
    "import tensorflow as tf\n",
    "import numpy as np\n",
    "from matplotlib import pyplot as plt\n",
    "\n",
    "# Generate synthetic data\n",
    "N = 100\n",
    "# Zeros form a Gaussian centered at (-1, -1)\n",
    "# epsilon is .1\n",
    "x_zeros = np.random.multivariate_normal(mean=np.array((5, 5)), cov=1.1*np.eye(2), size=(int(N/2),))\n",
    "y_zeros = np.zeros((int(N/2),))\n",
    "# Ones form a Gaussian centered at (1, 1)\n",
    "# epsilon is .1\n",
    "x_ones = np.random.multivariate_normal(\n",
    "    mean=np.array((2, 2)), cov=1.1*np.eye(2), size=(int(N/2),))\n",
    "y_ones = np.ones((int(N/2),))\n",
    "x_np_cluster = np.vstack([x_zeros, x_ones])\n",
    "y_np_cluster = np.concatenate([y_zeros, y_ones])\n",
    "\n",
    "with tf.Session() as sess:\n",
    "    sess.run(tf.global_variables_initializer())\n",
    "    y_np_cluster = sess.run(tf.random_shuffle(y_np_cluster))\n"
   ]
  },
  {
   "cell_type": "code",
   "execution_count": 22,
   "metadata": {},
   "outputs": [
    {
     "data": {
      "image/png": "[encoded data removed]",
      "text/plain": [
       "<Figure size 432x288 with 1 Axes>"
      ]
     },
     "metadata": {
      "needs_background": "light"
     },
     "output_type": "display_data"
    }
   ],
   "source": [
    "plt.scatter(np.reshape(x_ones, (2, int(N/2)))[0], np.reshape(x_ones, (2, int(N/2)))[1], s = 5, c='r')\n",
    "plt.scatter(np.reshape(x_zeros, (2, int(N/2)))[0], np.reshape(x_zeros, (2, int(N/2)))[1], s = 5, c='g')\n",
    "\n",
    "plt.show()"
   ]
  },
  {
   "cell_type": "code",
   "execution_count": 23,
   "metadata": {},
   "outputs": [],
   "source": [
    "X = tf.placeholder(tf.float32)\n",
    "Y = tf.placeholder(tf.float32)\n",
    "\n",
    "learning_rate = 0.001\n",
    "epochs = 4000\n",
    "\n",
    "W = tf.Variable(tf.random_normal((2, 1)), name = \"W\")\n",
    "b = tf.Variable(tf.random_normal((1,)), name = \"Bias\")\n",
    "\n",
    "y_logit = tf.matmul(X, W) + b\n",
    "y_sigmoid = tf.sigmoid(y_logit)\n",
    "y_model = tf.round(y_sigmoid)\n",
    "\n",
    "cost = tf.nn.sigmoid_cross_entropy_with_logits(logits=y_logit, labels=Y)\n",
    "\n",
    "loss = tf.reduce_sum(cost**2)"
   ]
  },
  {
   "cell_type": "code",
   "execution_count": 24,
   "metadata": {},
   "outputs": [],
   "source": [
    "train_op = tf.train.AdamOptimizer(learning_rate).minimize(loss)"
   ]
  },
  {
   "cell_type": "code",
   "execution_count": 27,
   "metadata": {},
   "outputs": [
    {
     "name": "stdout",
     "output_type": "stream",
     "text": [
      "step 0, loss: 34565.664062\n",
      "step 1000, loss: 5276.611328\n",
      "step 2000, loss: 4986.041992\n",
      "step 3000, loss: 4838.620117\n",
      "W:0 [[1.5098615]\n",
      " [1.0422474]]\n",
      "Bias:0 [-0.24993314]\n",
      "W_1:0 [[ 0.0102163 ]\n",
      " [-0.01763112]]\n",
      "Bias_1:0 [0.02996298]\n"
     ]
    }
   ],
   "source": [
    "W_val = [0., 0.]\n",
    "Bias_val = [0.]\n",
    "with tf.Session() as sess:\n",
    "    sess.run(tf.global_variables_initializer())\n",
    "    for epoch in range(epochs):\n",
    "        _, final_loss = sess.run([train_op, loss], feed_dict = {X: x_np_cluster, Y: y_np_cluster})\n",
    "        if(epoch % 1000 == 0):\n",
    "            print(\"step %d, loss: %f\" % (epoch, final_loss))\n",
    "            \n",
    "    tvars = tf.trainable_variables()\n",
    "    tvars_vals = sess.run(tvars)\n",
    "    for var, val in zip(tvars, tvars_vals):\n",
    "        if(var.name == \"W:0\"):\n",
    "            W_val = val\n",
    "        if(var.name == \"Bias:0\"):\n",
    "            Bias_val = val\n",
    "        print(var.name, val)\n",
    "\n",
    "    final_y_model = sess.run(y_model, feed_dict = {X: x_np_cluster})"
   ]
  },
  {
   "cell_type": "markdown",
   "metadata": {},
   "source": [
    "At every run the values are changing:\n",
    "\n",
    "4th run\n",
    "W:0 [[ 1.2888286 ]\n",
    " [-0.06644975]]\n",
    "Bias:0 [2.2385557]\n",
    "W_1:0 [[0.810624 ]\n",
    " [0.6860449]]\n",
    "Bias_1:0 [0.64734846]\n",
    "W_2:0 [[-2.4727602e-09]\n",
    " [-4.6536610e-09]]\n",
    "Bias_2:0 [2.9426424e-08]\n",
    "\n",
    "5th run\n",
    "W:0 [[ 0.25755283]\n",
    " [-0.5211387 ]]\n",
    "Bias:0 [1.5376824]\n",
    "W_1:0 [[-0.63875115]\n",
    " [-1.5617851 ]]\n",
    "Bias_1:0 [0.05212266]\n",
    "W_2:0 [[-5.167176e-09]\n",
    " [-2.704065e-09]]\n",
    "Bias_2:0 [3.0367026e-08]\n",
    "\n",
    "6th run\n",
    "W:0 [[-1.1931051]\n",
    " [ 0.9959224]]\n",
    "Bias:0 [-1.9369515]\n",
    "W_1:0 [[-0.18667716]\n",
    " [-0.8566772 ]]\n",
    "Bias_1:0 [-0.9872822]\n",
    "W_2:0 [[5.3803433e-09]\n",
    " [2.3492031e-09]]\n",
    "Bias_2:0 [-3.0099734e-08]\n",
    "\n",
    "Also good questions: \n",
    "Why after 3 runs we have 3 different values for W and Bias and the number will not increase to 4 and more?\n",
    "Why the final loss is the same for all obtained values if W and Bias are always different and the last graph is always changing?"
   ]
  },
  {
   "cell_type": "code",
   "execution_count": 28,
   "metadata": {},
   "outputs": [
    {
     "name": "stdout",
     "output_type": "stream",
     "text": [
      "[1.0422474]\n",
      "[1.5098615]\n",
      "[-0.24993314]\n"
     ]
    }
   ],
   "source": [
    "x1_boundary, x2_boundary = [], []\n",
    "\n",
    "print(W_val[1])\n",
    "print(W_val[0])\n",
    "print(Bias_val)\n",
    "with tf.Session() as sess:\n",
    "    for x1_test in np.linspace(-2, 8, 20):\n",
    "        for x2_test in np.linspace(-2, 8, 20):\n",
    "            z = sess.run(tf.sigmoid(-x2_test*W_val[1] - x1_test*W_val[0] - Bias_val))\n",
    "            if abs(z - 0.5) < 0.05:\n",
    "                x1_boundary.append(x1_test)\n",
    "                x2_boundary.append(x2_test)\n",
    "                \n",
    "# Something went wrong. I was expecting a line and not a setka\n",
    "# plt.scatter(x1_boundary, x2_boundary, c='b', marker='o', s=20)"
   ]
  },
  {
   "cell_type": "code",
   "execution_count": 29,
   "metadata": {},
   "outputs": [
    {
     "data": {
      "image/png": "[encoded data removed]",
      "text/plain": [
       "<Figure size 432x288 with 1 Axes>"
      ]
     },
     "metadata": {
      "needs_background": "light"
     },
     "output_type": "display_data"
    }
   ],
   "source": [
    "plt.scatter(np.reshape(x_ones, (2, int(N/2)))[0], np.reshape(x_ones, (2, int(N/2)))[1], s = 5, c='r')\n",
    "plt.scatter(np.reshape(x_zeros, (2, int(N/2)))[0], np.reshape(x_zeros, (2, int(N/2)))[1], s = 5, c='g')\n",
    "plt.scatter(x1_boundary, x2_boundary, c='b', s=20)\n",
    "plt.show()"
   ]
  },
  {
   "cell_type": "code",
   "execution_count": null,
   "metadata": {},
   "outputs": [],
   "source": []
  }
 ],
 "metadata": {
  "kernelspec": {
   "display_name": "Python 3",
   "language": "python",
   "name": "python3"
  },
  "language_info": {
   "codemirror_mode": {
    "name": "ipython",
    "version": 3
   },
   "file_extension": ".py",
   "mimetype": "text/x-python",
   "name": "python",
   "nbconvert_exporter": "python",
   "pygments_lexer": "ipython3",
   "version": "3.6.8"
  }
 },
 "nbformat": 4,
 "nbformat_minor": 2
}
