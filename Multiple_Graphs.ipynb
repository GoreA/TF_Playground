{
 "cells": [
  {
   "cell_type": "code",
   "execution_count": 1,
   "metadata": {},
   "outputs": [],
   "source": [
    "import tensorflow as tf"
   ]
  },
  {
   "cell_type": "code",
   "execution_count": 2,
   "metadata": {},
   "outputs": [],
   "source": [
    "\n",
    "g1 = tf.Graph()\n",
    "with g1.as_default() as g:\n",
    "    w1 = tf.Variable(tf.random_normal(shape=[2]), name='w1')\n",
    "    tf.summary.histogram(\"w1\", w1)\n",
    "    w2 = tf.Variable(tf.random_normal(shape=[5]), name='w2')\n",
    "    tf.summary.histogram(\"w2\", w2)\n",
    "    saver = tf.train.Saver()\n",
    "    sess = tf.Session()\n",
    "    sess.run(tf.global_variables_initializer())\n",
    "    saver.save(sess, './gr1/test1')\n",
    "    sess.close()\n",
    "    \n",
    "g2 = tf.Graph()\n",
    "with g2.as_default() as g:\n",
    "    w3 = tf.Variable(tf.random_normal(shape=[8]), name='w3')\n",
    "    tf.summary.histogram(\"w3\", w3)\n",
    "    w4 = tf.Variable(tf.random_normal(shape=[8]), name='w4')\n",
    "    tf.summary.histogram(\"w4\", w4)\n",
    "    saver = tf.train.Saver()\n",
    "    sess = tf.Session()\n",
    "    sess.run(tf.global_variables_initializer())\n",
    "    saver.save(sess, './gr2/test2')\n",
    "    sess.close()"
   ]
  },
  {
   "cell_type": "code",
   "execution_count": null,
   "metadata": {},
   "outputs": [],
   "source": []
  }
 ],
 "metadata": {
  "kernelspec": {
   "display_name": "Python 3",
   "language": "python",
   "name": "python3"
  },
  "language_info": {
   "codemirror_mode": {
    "name": "ipython",
    "version": 3
   },
   "file_extension": ".py",
   "mimetype": "text/x-python",
   "name": "python",
   "nbconvert_exporter": "python",
   "pygments_lexer": "ipython3",
   "version": "3.6.6"
  }
 },
 "nbformat": 4,
 "nbformat_minor": 2
}
