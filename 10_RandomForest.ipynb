{
 "cells": [
  {
   "cell_type": "code",
   "execution_count": 1,
   "metadata": {},
   "outputs": [],
   "source": [
    "import tensorflow as tf\n",
    "import sklearn.metrics as sk\n",
    "\n",
    "(x_train, y_train), (x_test, y_test) = tf.keras.datasets.mnist.load_data()\n"
   ]
  },
  {
   "cell_type": "code",
   "execution_count": 2,
   "metadata": {},
   "outputs": [
    {
     "name": "stdout",
     "output_type": "stream",
     "text": [
      "x_train shape: (60000, 784)\n",
      "Number of images in x_train 60000\n",
      "Number of images in x_test 10000\n"
     ]
    }
   ],
   "source": [
    "# Reshaping the array to 4-dims so that it can work with the Keras API\n",
    "x_train = x_train.reshape(x_train.shape[0], 784)\n",
    "x_test = x_test.reshape(x_test.shape[0], 784)\n",
    "input_shape = (28, 28, 1)\n",
    "# Making sure that the values are float so that we can get decimal points after division\n",
    "x_train = x_train.astype('float32')\n",
    "x_test = x_test.astype('float32')\n",
    "# Normalizing the RGB codes by dividing it to the max RGB value.\n",
    "x_train /= 255\n",
    "x_test /= 255\n",
    "print('x_train shape:', x_train.shape)\n",
    "print('Number of images in x_train', x_train.shape[0])\n",
    "print('Number of images in x_test', x_test.shape[0])"
   ]
  },
  {
   "cell_type": "code",
   "execution_count": 4,
   "metadata": {},
   "outputs": [
    {
     "name": "stdout",
     "output_type": "stream",
     "text": [
      "About to fit model on training set.\n",
      "Train Weighted Classification Accuracy: 1.000000\n",
      "Valid Weighted Classification Accuracy: 0.970900\n"
     ]
    }
   ],
   "source": [
    "from sklearn.ensemble import RandomForestClassifier\n",
    "import sklearn.metrics as sk\n",
    "\n",
    "sklearn_model = RandomForestClassifier(class_weight=\"balanced\", \n",
    "                                       n_estimators=150)\n",
    "print(\"About to fit model on training set.\")\n",
    "sklearn_model.fit(x_train, y_train)\n",
    "\n",
    "y_pred_train = sklearn_model.predict(x_train)\n",
    "y_pred_test = sklearn_model.predict(x_test)\n",
    "\n",
    "train_weighted_score = sk.accuracy_score(y_train, y_pred_train)\n",
    "print(\"Train Weighted Classification Accuracy: %f\" % train_weighted_score)\n",
    "test_weighted_score = sk.accuracy_score(y_test, y_pred_test)\n",
    "print(\"Valid Weighted Classification Accuracy: %f\" % test_weighted_score)\n",
    "    "
   ]
  },
  {
   "cell_type": "code",
   "execution_count": 6,
   "metadata": {},
   "outputs": [
    {
     "name": "stdout",
     "output_type": "stream",
     "text": [
      "About to fit model on training set.\n",
      "Train Weighted Classification Accuracy: 0.998200\n",
      "Valid Weighted Classification Accuracy: 0.968100\n"
     ]
    }
   ],
   "source": [
    "random_forest = RandomForestClassifier(criterion='gini', \n",
    "                             n_estimators=100,\n",
    "                             min_samples_split=10,\n",
    "                             min_samples_leaf=1,\n",
    "                             max_features='auto',\n",
    "                             oob_score=True,\n",
    "                             random_state=1,\n",
    "                             n_jobs=-1)\n",
    "\n",
    "print(\"About to fit model on training set.\")\n",
    "random_forest.fit(x_train, y_train)\n",
    "\n",
    "y_pred_train = random_forest.predict(x_train)\n",
    "y_pred_test = random_forest.predict(x_test)\n",
    "\n",
    "train_weighted_score = sk.accuracy_score(y_train, y_pred_train)\n",
    "print(\"Train Weighted Classification Accuracy: %f\" % train_weighted_score)\n",
    "test_weighted_score = sk.accuracy_score(y_test, y_pred_test)\n",
    "print(\"Valid Weighted Classification Accuracy: %f\" % test_weighted_score)\n",
    "    "
   ]
  }
 ],
 "metadata": {
  "kernelspec": {
   "display_name": "Python 3",
   "language": "python",
   "name": "python3"
  },
  "language_info": {
   "codemirror_mode": {
    "name": "ipython",
    "version": 3
   },
   "file_extension": ".py",
   "mimetype": "text/x-python",
   "name": "python",
   "nbconvert_exporter": "python",
   "pygments_lexer": "ipython3",
   "version": "3.6.8"
  }
 },
 "nbformat": 4,
 "nbformat_minor": 2
}
