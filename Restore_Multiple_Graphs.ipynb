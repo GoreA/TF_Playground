{
 "cells": [
  {
   "cell_type": "code",
   "execution_count": 1,
   "metadata": {},
   "outputs": [],
   "source": [
    "import tensorflow as tf\n"
   ]
  },
  {
   "cell_type": "code",
   "execution_count": 2,
   "metadata": {},
   "outputs": [
    {
     "name": "stdout",
     "output_type": "stream",
     "text": [
      "INFO:tensorflow:Restoring parameters from ./gr1/test1\n",
      "WARNING:tensorflow:From <ipython-input-2-7066d521792d>:6: all_variables (from tensorflow.python.ops.variables) is deprecated and will be removed after 2017-03-02.\n",
      "Instructions for updating:\n",
      "Please use tf.global_variables instead.\n",
      "w1:0 [1.1573739  0.60901594]\n",
      "w2:0 [-0.4843874   1.1165811  -0.14112209  1.8497038   0.64795876]\n"
     ]
    }
   ],
   "source": [
    "with tf.Session() as sess:\n",
    "    new_saver = tf.train.import_meta_graph('./gr1/test1.meta')\n",
    "    new_saver.restore(sess, tf.train.latest_checkpoint('./gr1/'))\n",
    "#     print(sess.run('w1:0'))\n",
    "    train_writer = tf.summary.FileWriter( './logs/1/train ', sess.graph)\n",
    "    tvars = tf.all_variables()\n",
    "    tvars_vals = sess.run(tvars)\n",
    "    for var, val in zip(tvars, tvars_vals):\n",
    "        print(var.name, val)"
   ]
  },
  {
   "cell_type": "code",
   "execution_count": 3,
   "metadata": {},
   "outputs": [],
   "source": [
    "tf.reset_default_graph()"
   ]
  },
  {
   "cell_type": "code",
   "execution_count": 4,
   "metadata": {},
   "outputs": [
    {
     "name": "stdout",
     "output_type": "stream",
     "text": [
      "INFO:tensorflow:Restoring parameters from ./gr2/test2\n",
      "w3:0 [-0.55757064  0.11421052 -0.13187407 -0.07264835 -1.414315    1.5203246\n",
      " -0.10039818 -0.93793523]\n",
      "w4:0 [-1.5261648  -0.0561684  -0.14969784  0.68127024 -0.8626742  -0.42737398\n",
      "  1.9150541   0.41664663]\n"
     ]
    }
   ],
   "source": [
    "with tf.Session() as sess:\n",
    "    new_saver = tf.train.import_meta_graph('./gr2/test2.meta')\n",
    "    new_saver.restore(sess, tf.train.latest_checkpoint('./gr2/'))\n",
    "    tvars = tf.all_variables()\n",
    "    tvars_vals = sess.run(tvars)\n",
    "    for var, val in zip(tvars, tvars_vals):\n",
    "        print(var.name, val)"
   ]
  },
  {
   "cell_type": "code",
   "execution_count": null,
   "metadata": {},
   "outputs": [],
   "source": []
  }
 ],
 "metadata": {
  "kernelspec": {
   "display_name": "Python 3",
   "language": "python",
   "name": "python3"
  },
  "language_info": {
   "codemirror_mode": {
    "name": "ipython",
    "version": 3
   },
   "file_extension": ".py",
   "mimetype": "text/x-python",
   "name": "python",
   "nbconvert_exporter": "python",
   "pygments_lexer": "ipython3",
   "version": "3.6.6"
  }
 },
 "nbformat": 4,
 "nbformat_minor": 2
}
