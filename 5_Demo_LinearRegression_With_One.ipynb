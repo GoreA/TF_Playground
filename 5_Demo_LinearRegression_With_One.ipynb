{
 "cells": [
  {
   "cell_type": "code",
   "execution_count": 1,
   "metadata": {},
   "outputs": [],
   "source": [
    "import tensorflow as tf\n",
    "import numpy as np\n",
    "from matplotlib import pyplot as plt\n",
    "\n",
    "N = 100\n",
    "w_true = 5\n",
    "b_true = 2\n",
    "noise_scale = 5\n",
    "x_np = 15 * np.random.rand(N, 1)\n",
    "noise = np.random.normal(scale = noise_scale, size = (N, 1))\n",
    "\n",
    "# Convert shape of y_np to (N,)\n",
    "y = np.reshape(x_np * w_true + b_true + noise, (N, 1))"
   ]
  },
  {
   "cell_type": "code",
   "execution_count": 2,
   "metadata": {},
   "outputs": [
    {
     "data": {
      "text/plain": [
       "(100, 1)"
      ]
     },
     "execution_count": 2,
     "metadata": {},
     "output_type": "execute_result"
    }
   ],
   "source": [
    "y.shape"
   ]
  },
  {
   "cell_type": "code",
   "execution_count": 3,
   "metadata": {},
   "outputs": [
    {
     "data": {
      "image/png": "[encoded data removed]",
      "text/plain": [
       "<Figure size 432x288 with 1 Axes>"
      ]
     },
     "metadata": {
      "needs_background": "light"
     },
     "output_type": "display_data"
    }
   ],
   "source": [
    "plt.scatter(x_np, y, s = 15, c='r')\n",
    "plt.show()"
   ]
  },
  {
   "cell_type": "code",
   "execution_count": 4,
   "metadata": {},
   "outputs": [],
   "source": [
    "learning_rate = 0.01\n",
    "epochs = 10000\n",
    "\n",
    "X = tf.placeholder(tf.float32)\n",
    "Y = tf.placeholder(tf.float32)\n",
    "\n",
    "W = tf.Variable(tf.random_normal((1, 1)), name = \"W\")\n",
    "b = tf.Variable(tf.random_normal((1,)), name = \"Bias\")\n",
    "\n",
    "y_model = tf.matmul(X, W) + b\n",
    "loss = tf.reduce_sum((Y - y_model)**2)\n",
    "# AdagradOptimizer\n",
    "train_op = tf.train.AdagradOptimizer(learning_rate).minimize(loss)"
   ]
  },
  {
   "cell_type": "code",
   "execution_count": 5,
   "metadata": {},
   "outputs": [
    {
     "name": "stdout",
     "output_type": "stream",
     "text": [
      "step 0, loss: 93984.585938\n",
      "step 1000, loss: 63828.832031\n",
      "step 2000, loss: 53422.015625\n",
      "step 3000, loss: 46323.820312\n",
      "step 4000, loss: 40908.664062\n",
      "step 5000, loss: 36549.542969\n",
      "step 6000, loss: 32926.394531\n",
      "step 7000, loss: 29849.894531\n",
      "step 8000, loss: 27197.246094\n",
      "step 9000, loss: 24883.546875\n",
      "W:0 [[3.0768178]]\n",
      "Bias:0 [2.835557]\n",
      "[2.835557] [[3.0768178]]\n"
     ]
    }
   ],
   "source": [
    "with tf.Session() as sess:\n",
    "    sess.run(tf.global_variables_initializer())\n",
    "    for epoch in range(epochs):\n",
    "        _, final_loss = sess.run([train_op, loss], feed_dict={X: x_np, Y: y})\n",
    "        if(epoch%1000 == 0):\n",
    "            print(\"step %d, loss: %f\" % (epoch, final_loss))\n",
    "    # Added here in case if  have some troubles with extracting variables\n",
    "    tvars = tf.trainable_variables()\n",
    "    tvars_vals = sess.run(tvars)\n",
    "    for var, val in zip(tvars, tvars_vals):\n",
    "        print(var.name, val)\n",
    "    final_b = sess.run(b)\n",
    "    final_w = sess.run(W)\n",
    "    final_y_model = sess.run(y_model, feed_dict = {X: x_np})\n",
    "\n",
    "print(final_b, final_w)\n",
    "#  should be [2, 5]"
   ]
  },
  {
   "cell_type": "code",
   "execution_count": 6,
   "metadata": {},
   "outputs": [
    {
     "data": {
      "image/png": "[encoded data removed]",
      "text/plain": [
       "<Figure size 432x288 with 1 Axes>"
      ]
     },
     "metadata": {
      "needs_background": "light"
     },
     "output_type": "display_data"
    }
   ],
   "source": [
    "plt.scatter(x_np, final_y_model, s = 10)\n",
    "plt.scatter(x_np, y, c='r', s = 10)\n",
    "plt.show()"
   ]
  },
  {
   "cell_type": "code",
   "execution_count": 7,
   "metadata": {},
   "outputs": [],
   "source": [
    "# AdamOptimizer\n",
    "train_op = tf.train.AdamOptimizer(learning_rate).minimize(loss)"
   ]
  },
  {
   "cell_type": "code",
   "execution_count": 8,
   "metadata": {},
   "outputs": [
    {
     "name": "stdout",
     "output_type": "stream",
     "text": [
      "step 0, loss: 241812.781250\n",
      "step 1000, loss: 2849.326172\n",
      "step 2000, loss: 2484.323242\n",
      "step 3000, loss: 2455.063965\n",
      "step 4000, loss: 2434.755615\n",
      "step 5000, loss: 2426.923828\n",
      "step 6000, loss: 2425.684082\n",
      "step 7000, loss: 2425.634766\n",
      "step 8000, loss: 2425.634521\n",
      "step 9000, loss: 2425.634521\n",
      "W:0 [[4.720193]]\n",
      "Bias:0 [3.5742774]\n",
      "Variable:0 [[0.]]\n",
      "Variable_1:0 [0.]\n",
      "[0.] [[0.]]\n"
     ]
    }
   ],
   "source": [
    "W = tf.Variable(tf.zeros((1, 1)))\n",
    "b = tf.Variable(tf.zeros((1,)))\n",
    "\n",
    "with tf.Session() as sess:\n",
    "    sess.run(tf.global_variables_initializer())\n",
    "    for epoch in range(epochs):\n",
    "        _, final_loss = sess.run([train_op, loss], feed_dict={X: x_np, Y: y})\n",
    "        if(epoch%1000 == 0):\n",
    "            print(\"step %d, loss: %f\" % (epoch, final_loss))\n",
    "            \n",
    "    # Added here in case if  have some troubles with extracting variables\n",
    "    tvars = tf.trainable_variables()\n",
    "    tvars_vals = sess.run(tvars)\n",
    "    for var, val in zip(tvars, tvars_vals):\n",
    "        print(var.name, val)\n",
    "    # Like here AdamOptimizer has some problems with extracting trained variables!\n",
    "    # Damn stupid code!\n",
    "    final_b = sess.run(b)\n",
    "    final_w = sess.run(W)\n",
    "    final_y_model = sess.run(y_model, feed_dict = {X: x_np})\n",
    "\n",
    "\n",
    "print(final_b, final_w)\n",
    "#  should be [2, 5]"
   ]
  },
  {
   "cell_type": "code",
   "execution_count": 9,
   "metadata": {},
   "outputs": [
    {
     "data": {
      "image/png": "[encoded data removed]",
      "text/plain": [
       "<Figure size 432x288 with 1 Axes>"
      ]
     },
     "metadata": {
      "needs_background": "light"
     },
     "output_type": "display_data"
    }
   ],
   "source": [
    "plt.scatter(x_np, final_y_model, s = 10)\n",
    "plt.scatter(x_np, y, c='r', s = 10)\n",
    "plt.show()"
   ]
  }
 ],
 "metadata": {
  "kernelspec": {
   "display_name": "Python 3",
   "language": "python",
   "name": "python3"
  },
  "language_info": {
   "codemirror_mode": {
    "name": "ipython",
    "version": 3
   },
   "file_extension": ".py",
   "mimetype": "text/x-python",
   "name": "python",
   "nbconvert_exporter": "python",
   "pygments_lexer": "ipython3",
   "version": "3.6.8"
  }
 },
 "nbformat": 4,
 "nbformat_minor": 2
}
