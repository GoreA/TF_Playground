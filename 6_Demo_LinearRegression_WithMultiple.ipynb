{
 "cells": [
  {
   "cell_type": "code",
   "execution_count": 20,
   "metadata": {},
   "outputs": [],
   "source": [
    "import tensorflow as tf\n",
    "import numpy as np\n",
    "from matplotlib import pyplot as plt\n",
    "\n",
    "# Generate synthetic data\n",
    "N = 100\n",
    "# Zeros form a Gaussian centered at (-1, -1)\n",
    "# epsilon is .1\n",
    "x_zeros = np.random.multivariate_normal(mean=np.array((-1, -1)), cov=.1*np.eye(2), size=(int(N/2),))\n",
    "y_zeros = np.zeros((int(N/2),))\n",
    "# Ones form a Gaussian centered at (1, 1)\n",
    "# epsilon is .1\n",
    "x_ones = np.random.multivariate_normal(\n",
    "    mean=np.array((1, 1)), cov=.1*np.eye(2), size=(int(N/2),))\n",
    "y_ones = np.ones((int(N/2),))\n",
    "x_np_cluster = np.vstack([x_zeros, x_ones])\n",
    "y_np_cluster = np.concatenate([y_zeros, y_ones])\n",
    "\n",
    "with tf.Session() as sess:\n",
    "    sess.run(tf.global_variables_initializer())\n",
    "    y_np_cluster = sess.run(tf.random_shuffle(y_np_cluster))\n"
   ]
  },
  {
   "cell_type": "code",
   "execution_count": 3,
   "metadata": {},
   "outputs": [],
   "source": [
    "learning_rate = 0.01\n",
    "epochs = 1000\n",
    "\n",
    "X = tf.placeholder(tf.float32)\n",
    "Y = tf.placeholder(tf.float32)\n",
    "\n",
    "W = tf.Variable(tf.random_normal((2, 1)), name = \"W\")\n",
    "b = tf.Variable(tf.random_normal((1,)), name = \"Bias\")\n",
    "\n",
    "y_model = tf.matmul(X, W) + b\n",
    "loss = tf.reduce_sum((Y - y_model)**2)\n",
    "# AdagradOptimizer\n",
    "train_op = tf.train.AdamOptimizer(learning_rate).minimize(loss)"
   ]
  },
  {
   "cell_type": "code",
   "execution_count": 4,
   "metadata": {},
   "outputs": [
    {
     "data": {
      "text/plain": [
       "TensorShape([Dimension(2), Dimension(1)])"
      ]
     },
     "execution_count": 4,
     "metadata": {},
     "output_type": "execute_result"
    }
   ],
   "source": [
    "W.shape"
   ]
  },
  {
   "cell_type": "code",
   "execution_count": 5,
   "metadata": {},
   "outputs": [
    {
     "name": "stdout",
     "output_type": "stream",
     "text": [
      "step 0, loss: 7904.0225\n",
      "step 100, loss: 2573.6504\n",
      "step 200, loss: 2512.649\n",
      "step 300, loss: 2501.1252\n",
      "step 400, loss: 2500.0498\n",
      "step 500, loss: 2500.0037\n",
      "step 600, loss: 2500.0\n",
      "step 700, loss: 2500.0\n",
      "step 800, loss: 2500.0\n",
      "step 900, loss: 2500.0\n",
      "W:0 [[ 1.7396935e-08]\n",
      " [-1.6841941e-08]]\n",
      "Bias:0 [0.49999994]\n"
     ]
    }
   ],
   "source": [
    "with tf.Session() as sess:\n",
    "    sess.run(tf.global_variables_initializer())\n",
    "    for epoch in range(epochs):\n",
    "        _, final_loss = sess.run([train_op, loss], feed_dict = {X: x_np_cluster, Y: y_np_cluster })\n",
    "        if(epoch % 100 == 0):\n",
    "            print(\"step %d, loss: %s\" % (epoch, final_loss))\n",
    "    \n",
    "    tvars = tf.trainable_variables()\n",
    "    tvars_vals = sess.run(tvars)\n",
    "    for var, val in zip(tvars, tvars_vals):\n",
    "        print(var.name, val)\n",
    "    final_y_model = sess.run(y_model, feed_dict = {X: x_np})"
   ]
  },
  {
   "cell_type": "code",
   "execution_count": null,
   "metadata": {},
   "outputs": [],
   "source": []
  }
 ],
 "metadata": {
  "kernelspec": {
   "display_name": "Python 3",
   "language": "python",
   "name": "python3"
  },
  "language_info": {
   "codemirror_mode": {
    "name": "ipython",
    "version": 3
   },
   "file_extension": ".py",
   "mimetype": "text/x-python",
   "name": "python",
   "nbconvert_exporter": "python",
   "pygments_lexer": "ipython3",
   "version": "3.6.8"
  }
 },
 "nbformat": 4,
 "nbformat_minor": 2
}
